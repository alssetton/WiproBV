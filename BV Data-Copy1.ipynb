{
 "cells": [
  {
   "cell_type": "markdown",
   "metadata": {},
   "source": [
    "# BV Creation of DataTables"
   ]
  },
  {
   "cell_type": "code",
   "execution_count": 59,
   "metadata": {},
   "outputs": [
    {
     "name": "stdout",
     "output_type": "stream",
     "text": [
      "Collecting jupyterthemes\n",
      "  Downloading jupyterthemes-0.20.0-py2.py3-none-any.whl (7.0 MB)\n",
      "Requirement already satisfied: jupyter-core in c:\\users\\am20161755\\anaconda3\\lib\\site-packages (from jupyterthemes) (4.6.3)\n",
      "Collecting lesscpy>=0.11.2\n",
      "  Downloading lesscpy-0.14.0-py2.py3-none-any.whl (46 kB)\n",
      "Requirement already satisfied: notebook>=5.6.0 in c:\\users\\am20161755\\anaconda3\\lib\\site-packages (from jupyterthemes) (6.0.3)\n",
      "Requirement already satisfied: matplotlib>=1.4.3 in c:\\users\\am20161755\\anaconda3\\lib\\site-packages (from jupyterthemes) (3.2.2)\n",
      "Requirement already satisfied: ipython>=5.4.1 in c:\\users\\am20161755\\anaconda3\\lib\\site-packages (from jupyterthemes) (7.16.1)\n",
      "Requirement already satisfied: traitlets in c:\\users\\am20161755\\anaconda3\\lib\\site-packages (from jupyter-core->jupyterthemes) (4.3.3)\n",
      "Requirement already satisfied: pywin32>=1.0; sys_platform == \"win32\" in c:\\users\\am20161755\\anaconda3\\lib\\site-packages (from jupyter-core->jupyterthemes) (227)\n",
      "Requirement already satisfied: ply in c:\\users\\am20161755\\anaconda3\\lib\\site-packages (from lesscpy>=0.11.2->jupyterthemes) (3.11)\n",
      "Requirement already satisfied: six in c:\\users\\am20161755\\anaconda3\\lib\\site-packages (from lesscpy>=0.11.2->jupyterthemes) (1.15.0)\n",
      "Requirement already satisfied: jupyter-client>=5.3.4 in c:\\users\\am20161755\\anaconda3\\lib\\site-packages (from notebook>=5.6.0->jupyterthemes) (6.1.6)\n",
      "Requirement already satisfied: nbconvert in c:\\users\\am20161755\\anaconda3\\lib\\site-packages (from notebook>=5.6.0->jupyterthemes) (5.6.1)\n",
      "Requirement already satisfied: prometheus-client in c:\\users\\am20161755\\anaconda3\\lib\\site-packages (from notebook>=5.6.0->jupyterthemes) (0.8.0)\n",
      "Requirement already satisfied: ipython-genutils in c:\\users\\am20161755\\anaconda3\\lib\\site-packages (from notebook>=5.6.0->jupyterthemes) (0.2.0)\n",
      "Requirement already satisfied: nbformat in c:\\users\\am20161755\\anaconda3\\lib\\site-packages (from notebook>=5.6.0->jupyterthemes) (5.0.7)\n",
      "Requirement already satisfied: pyzmq>=17 in c:\\users\\am20161755\\anaconda3\\lib\\site-packages (from notebook>=5.6.0->jupyterthemes) (19.0.1)\n",
      "Requirement already satisfied: terminado>=0.8.1 in c:\\users\\am20161755\\anaconda3\\lib\\site-packages (from notebook>=5.6.0->jupyterthemes) (0.8.3)\n",
      "Requirement already satisfied: Send2Trash in c:\\users\\am20161755\\anaconda3\\lib\\site-packages (from notebook>=5.6.0->jupyterthemes) (1.5.0)\n",
      "Requirement already satisfied: tornado>=5.0 in c:\\users\\am20161755\\anaconda3\\lib\\site-packages (from notebook>=5.6.0->jupyterthemes) (6.0.4)\n",
      "Requirement already satisfied: jinja2 in c:\\users\\am20161755\\anaconda3\\lib\\site-packages (from notebook>=5.6.0->jupyterthemes) (2.11.2)\n",
      "Requirement already satisfied: ipykernel in c:\\users\\am20161755\\anaconda3\\lib\\site-packages (from notebook>=5.6.0->jupyterthemes) (5.3.2)\n",
      "Requirement already satisfied: pyparsing!=2.0.4,!=2.1.2,!=2.1.6,>=2.0.1 in c:\\users\\am20161755\\anaconda3\\lib\\site-packages (from matplotlib>=1.4.3->jupyterthemes) (2.4.7)\n",
      "Requirement already satisfied: numpy>=1.11 in c:\\users\\am20161755\\anaconda3\\lib\\site-packages (from matplotlib>=1.4.3->jupyterthemes) (1.18.5)\n",
      "Requirement already satisfied: kiwisolver>=1.0.1 in c:\\users\\am20161755\\anaconda3\\lib\\site-packages (from matplotlib>=1.4.3->jupyterthemes) (1.2.0)\n",
      "Requirement already satisfied: python-dateutil>=2.1 in c:\\users\\am20161755\\anaconda3\\lib\\site-packages (from matplotlib>=1.4.3->jupyterthemes) (2.8.1)\n",
      "Requirement already satisfied: cycler>=0.10 in c:\\users\\am20161755\\anaconda3\\lib\\site-packages (from matplotlib>=1.4.3->jupyterthemes) (0.10.0)\n",
      "Requirement already satisfied: setuptools>=18.5 in c:\\users\\am20161755\\anaconda3\\lib\\site-packages (from ipython>=5.4.1->jupyterthemes) (49.2.0.post20200714)\n",
      "Requirement already satisfied: pygments in c:\\users\\am20161755\\anaconda3\\lib\\site-packages (from ipython>=5.4.1->jupyterthemes) (2.6.1)\n",
      "Requirement already satisfied: backcall in c:\\users\\am20161755\\anaconda3\\lib\\site-packages (from ipython>=5.4.1->jupyterthemes) (0.2.0)\n",
      "Requirement already satisfied: jedi>=0.10 in c:\\users\\am20161755\\anaconda3\\lib\\site-packages (from ipython>=5.4.1->jupyterthemes) (0.17.1)\n",
      "Requirement already satisfied: pickleshare in c:\\users\\am20161755\\anaconda3\\lib\\site-packages (from ipython>=5.4.1->jupyterthemes) (0.7.5)\n",
      "Requirement already satisfied: prompt-toolkit!=3.0.0,!=3.0.1,<3.1.0,>=2.0.0 in c:\\users\\am20161755\\anaconda3\\lib\\site-packages (from ipython>=5.4.1->jupyterthemes) (3.0.5)\n",
      "Requirement already satisfied: colorama; sys_platform == \"win32\" in c:\\users\\am20161755\\anaconda3\\lib\\site-packages (from ipython>=5.4.1->jupyterthemes) (0.4.3)\n",
      "Requirement already satisfied: decorator in c:\\users\\am20161755\\anaconda3\\lib\\site-packages (from ipython>=5.4.1->jupyterthemes) (4.4.2)\n",
      "Requirement already satisfied: mistune<2,>=0.8.1 in c:\\users\\am20161755\\anaconda3\\lib\\site-packages (from nbconvert->notebook>=5.6.0->jupyterthemes) (0.8.4)\n",
      "Requirement already satisfied: bleach in c:\\users\\am20161755\\anaconda3\\lib\\site-packages (from nbconvert->notebook>=5.6.0->jupyterthemes) (3.1.5)\n",
      "Requirement already satisfied: entrypoints>=0.2.2 in c:\\users\\am20161755\\anaconda3\\lib\\site-packages (from nbconvert->notebook>=5.6.0->jupyterthemes) (0.3)\n",
      "Requirement already satisfied: defusedxml in c:\\users\\am20161755\\anaconda3\\lib\\site-packages (from nbconvert->notebook>=5.6.0->jupyterthemes) (0.6.0)\n",
      "Requirement already satisfied: pandocfilters>=1.4.1 in c:\\users\\am20161755\\anaconda3\\lib\\site-packages (from nbconvert->notebook>=5.6.0->jupyterthemes) (1.4.2)\n",
      "Requirement already satisfied: testpath in c:\\users\\am20161755\\anaconda3\\lib\\site-packages (from nbconvert->notebook>=5.6.0->jupyterthemes) (0.4.4)\n",
      "Requirement already satisfied: jsonschema!=2.5.0,>=2.4 in c:\\users\\am20161755\\anaconda3\\lib\\site-packages (from nbformat->notebook>=5.6.0->jupyterthemes) (3.2.0)\n",
      "Requirement already satisfied: MarkupSafe>=0.23 in c:\\users\\am20161755\\anaconda3\\lib\\site-packages (from jinja2->notebook>=5.6.0->jupyterthemes) (1.1.1)\n",
      "Requirement already satisfied: parso<0.8.0,>=0.7.0 in c:\\users\\am20161755\\anaconda3\\lib\\site-packages (from jedi>=0.10->ipython>=5.4.1->jupyterthemes) (0.7.0)\n",
      "Requirement already satisfied: wcwidth in c:\\users\\am20161755\\anaconda3\\lib\\site-packages (from prompt-toolkit!=3.0.0,!=3.0.1,<3.1.0,>=2.0.0->ipython>=5.4.1->jupyterthemes) (0.2.5)\n",
      "Requirement already satisfied: packaging in c:\\users\\am20161755\\anaconda3\\lib\\site-packages (from bleach->nbconvert->notebook>=5.6.0->jupyterthemes) (20.4)\n",
      "Requirement already satisfied: webencodings in c:\\users\\am20161755\\anaconda3\\lib\\site-packages (from bleach->nbconvert->notebook>=5.6.0->jupyterthemes) (0.5.1)\n",
      "Requirement already satisfied: pyrsistent>=0.14.0 in c:\\users\\am20161755\\anaconda3\\lib\\site-packages (from jsonschema!=2.5.0,>=2.4->nbformat->notebook>=5.6.0->jupyterthemes) (0.16.0)\n",
      "Requirement already satisfied: attrs>=17.4.0 in c:\\users\\am20161755\\anaconda3\\lib\\site-packages (from jsonschema!=2.5.0,>=2.4->nbformat->notebook>=5.6.0->jupyterthemes) (19.3.0)\n",
      "Installing collected packages: lesscpy, jupyterthemes\n",
      "Successfully installed jupyterthemes-0.20.0 lesscpy-0.14.0\n",
      "Note: you may need to restart the kernel to use updated packages.\n"
     ]
    }
   ],
   "source": [
    "pip install jupyterthemes\n"
   ]
  },
  {
   "cell_type": "code",
   "execution_count": 57,
   "metadata": {},
   "outputs": [
    {
     "data": {
      "text/plain": [
       "<sqlite3.Cursor at 0x15f41a34dc0>"
      ]
     },
     "execution_count": 57,
     "metadata": {},
     "output_type": "execute_result"
    }
   ],
   "source": [
    "#code to create tables\n",
    "import sqlite3\n",
    "con = sqlite3.connect('BV.db') # connect to the database\n",
    "con.execute(\"PRAGMA foreign_keys = 1\")\n",
    "cur = con.cursor() # instantiate a cursor obj\n",
    "\n",
    "project_sql = \"\"\"\n",
    "    CREATE TABLE IF NOT EXISTS project (\n",
    "        id integer PRIMARY KEY,\n",
    "        SectionName text,\n",
    "        DisciplineName text,\n",
    "        SubjectName text,\n",
    "        ProjectAttribute text,\n",
    "        SubTypeName text,\n",
    "        Technology text,\n",
    "        FacilityType text,\n",
    "        Dropdownlist text,\n",
    "        AllowMultipleSelection text,\n",
    "        ExternalSource text,\n",
    "        Notes text,\n",
    "        ResourceName text,\n",
    "        ResourceIdentifier text,\n",
    "        LibraryType text,\n",
    "        software text,\n",
    "        code text,\n",
    "        units text,\n",
    "        URL text,\n",
    "        origin text,\n",
    "        ResourceCategory text,\n",
    "        ResourceDiscipline text,\n",
    "        ProductionDate text,\n",
    "        ProjectLevel text,\n",
    "        MultipleDoc text)\"\"\"\n",
    "\n",
    "cur.execute(project_sql)\n",
    "\n",
    "con.commit()\n",
    "activity_sql = \"\"\"\n",
    "    CREATE TABLE IF NOT EXISTS activity (\n",
    "        id integer UNIQUE,\n",
    "        activityID integer UNIQUE,\n",
    "        disciplinelead text,\n",
    "        SubtypeName text,\n",
    "        SubjectName text,\n",
    "        AcitvityAttribute text,\n",
    "        ActivityBudgetHrs integer,\n",
    "        FOREIGN KEY (id)\n",
    "            REFERENCES project (id))\"\"\"\n",
    "\n",
    "cur.execute(activity_sql)\n",
    "#id connects to project table primary key\n",
    "\n",
    "WBS_CWAMetaData_sql = \"\"\"\n",
    "    CREATE TABLE IF NOT EXISTS WBS_CWAMetaData (\n",
    "        id integer UNIQUE,\n",
    "        CWAID integer UNIQUE,\n",
    "        CWA Description text,\n",
    "        GIS Boundary text,\n",
    "        GroundLevel text,\n",
    "        PlotPlanningDrawing text,\n",
    "        AdditionalDoC text)\"\"\"\n",
    "\n",
    "cur.execute(WBS_CWAMetaData_sql)\n",
    "\n",
    "fragnet_sql = \"\"\"\n",
    "    CREATE TABLE IF NOT EXISTS fragnet (\n",
    "        id integer UNIQUE,\n",
    "        activityID integer UNIQUE,\n",
    "        FragnetName text,\n",
    "        FragnetStepName text,\n",
    "        FragnetIdentifier integer,\n",
    "        FragenetStepType text,\n",
    "        FragnetStepDuration integer,\n",
    "        StartDate DateTime,\n",
    "        EndDate DateTime)\"\"\"\n",
    "\n",
    "cur.execute(fragnet_sql)\n",
    "\n",
    "\n",
    "gig_sql = \"\"\"\n",
    "    CREATE TABLE IF NOT EXISTS gig (\n",
    "       ID integer UNIQUE,\n",
    "       ActivityID integer UNIQUE,\n",
    "       GIGID integer UNIQUE,\n",
    "       GigName text UNIQUE,\n",
    "       GigCompleterID text,\n",
    "       GigReviewerID text,\n",
    "       Status text,\n",
    "       AssignmentStatus text,\n",
    "       ScheduleStatus text,\n",
    "       SortOrder text,\n",
    "       GignetSortOrder text,\n",
    "       DOSActivity text,\n",
    "       GigTypeName text,\n",
    "       GigTypeIdentifier text,\n",
    "       WorkType text,\n",
    "       GigInstructions text,\n",
    "       ChargeNumber integer,\n",
    "       JobFamily text,\n",
    "       SpecificProjectRole text,\n",
    "       Assumption text,\n",
    "       Validation text,\n",
    "       GigRevision integer,\n",
    "       StartDate DateTime,\n",
    "       EndDate DateTime,\n",
    "       PlannedStart DateTime,\n",
    "       PlannedEnd DateTime,\n",
    "       DocumentLink text)\"\"\"\n",
    "\n",
    "cur.execute(gig_sql)\n",
    "\n",
    "\n",
    "DependencyMatrix_sql = \"\"\"\n",
    "    CREATE TABLE IF NOT EXISTS DependencyMatrix (\n",
    "       ID integer UNIQUE,\n",
    "       ParentID integer UNIQUE,\n",
    "       IOFieldName text,\n",
    "       Duration integer,\n",
    "       Gigtypename text,\n",
    "       GigName text,\n",
    "       One_Some_AllCWA text,\n",
    "       IsSource integer,\n",
    "       Finish_Finish integer,\n",
    "       Start_Start integer,\n",
    "       ValueType text,\n",
    "       UOMType text,\n",
    "       sourceofdata text,\n",
    "       scope text,\n",
    "       responsiblediscipline text,\n",
    "       fragnetstepidentifier text,\n",
    "       fragnetstepdeliverable text,\n",
    "       feed_y text,\n",
    "       DBPMSFile text)\"\"\"\n",
    "\n",
    "cur.execute(DependencyMatrix_sql) "
   ]
  },
  {
   "cell_type": "code",
   "execution_count": 58,
   "metadata": {},
   "outputs": [
    {
     "name": "stdout",
     "output_type": "stream",
     "text": [
      "[('project',), ('activity',), ('WBS_CWAMetaData',), ('fragnet',), ('gig',), ('DependencyMatrix',)]\n"
     ]
    }
   ],
   "source": [
    "#fetch all tables that exist in the db \n",
    "cur.execute(\"SELECT name FROM sqlite_master WHERE type='table'\")\n",
    "\n",
    "print(cur.fetchall())\n",
    "# example output [('project',), ('activity',)]"
   ]
  },
  {
   "cell_type": "code",
   "execution_count": null,
   "metadata": {},
   "outputs": [],
   "source": [
    "#didn't create the master tables for now"
   ]
  },
  {
   "cell_type": "code",
   "execution_count": 27,
   "metadata": {},
   "outputs": [
    {
     "data": {
      "text/plain": [
       "<sqlite3.Cursor at 0x15f41a1fab0>"
      ]
     },
     "execution_count": 27,
     "metadata": {},
     "output_type": "execute_result"
    }
   ],
   "source": [
    "#code to drop table if need to\n",
    "con = sqlite3.connect('BV.db') # connect to the database\n",
    "cur = con.cursor() # instantiate a cursor obj\n",
    "\n",
    "dropTableStatement = \"DROP TABLE ___inserttable___\"\n",
    "\n",
    "cur.execute(dropTableStatement)\n"
   ]
  }
 ],
 "metadata": {
  "kernelspec": {
   "display_name": "Python 3",
   "language": "python",
   "name": "python3"
  },
  "language_info": {
   "codemirror_mode": {
    "name": "ipython",
    "version": 3
   },
   "file_extension": ".py",
   "mimetype": "text/x-python",
   "name": "python",
   "nbconvert_exporter": "python",
   "pygments_lexer": "ipython3",
   "version": "3.8.3"
  }
 },
 "nbformat": 4,
 "nbformat_minor": 4
}
