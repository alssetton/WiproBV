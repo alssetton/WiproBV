{
 "cells": [
  {
   "cell_type": "markdown",
   "metadata": {},
   "source": [
    "# BV Creation of DataTables"
   ]
  },
  {
   "cell_type": "code",
   "execution_count": 1,
   "metadata": {},
   "outputs": [
    {
     "data": {
      "text/plain": [
       "<sqlite3.Cursor at 0x1e45c847e30>"
      ]
     },
     "execution_count": 1,
     "metadata": {},
     "output_type": "execute_result"
    }
   ],
   "source": [
    "#code to create tables\n",
    "import sqlite3\n",
    "con = sqlite3.connect('BV.db') # connect to the database\n",
    "con.execute(\"PRAGMA foreign_keys = 1\")\n",
    "cur = con.cursor() # instantiate a cursor obj\n",
    "\n",
    "project_sql = \"\"\"\n",
    "    CREATE TABLE IF NOT EXISTS project (\n",
    "        id integer PRIMARY KEY,\n",
    "        SectionName text,\n",
    "        DisciplineName text,\n",
    "        SubjectName text,\n",
    "        ProjectAttribute text,\n",
    "        SubTypeName text,\n",
    "        Technology text,\n",
    "        FacilityType text,\n",
    "        Dropdownlist text,\n",
    "        AllowMultipleSelection text,\n",
    "        ExternalSource text,\n",
    "        Notes text,\n",
    "        ResourceName text,\n",
    "        ResourceIdentifier text,\n",
    "        LibraryType text,\n",
    "        software text,\n",
    "        code text,\n",
    "        units text,\n",
    "        URL text,\n",
    "        origin text,\n",
    "        ResourceCategory text,\n",
    "        ResourceDiscipline text,\n",
    "        ProductionDate text,\n",
    "        ProjectLevel text,\n",
    "        MultipleDoc text)\"\"\"\n",
    "\n",
    "cur.execute(project_sql)\n",
    "\n",
    "con.commit()\n",
    "activity_sql = \"\"\"\n",
    "    CREATE TABLE IF NOT EXISTS activity (\n",
    "        id integer UNIQUE,\n",
    "        activityID integer UNIQUE,\n",
    "        disciplinelead text,\n",
    "        SubtypeName text,\n",
    "        SubjectName text,\n",
    "        AcitvityAttribute text,\n",
    "        ActivityBudgetHrs integer,\n",
    "        FOREIGN KEY (id)\n",
    "            REFERENCES project (id))\"\"\"\n",
    "\n",
    "cur.execute(activity_sql)\n",
    "#id connects to project table primary key\n",
    "\n",
    "WBS_CWAMetaData_sql = \"\"\"\n",
    "    CREATE TABLE IF NOT EXISTS WBS_CWAMetaData (\n",
    "        id integer UNIQUE,\n",
    "        CWAID integer UNIQUE,\n",
    "        CWA Description text,\n",
    "        GIS Boundary text,\n",
    "        GroundLevel text,\n",
    "        PlotPlanningDrawing text,\n",
    "        AdditionalDoC text)\"\"\"\n",
    "\n",
    "cur.execute(WBS_CWAMetaData_sql)\n",
    "\n",
    "fragnet_sql = \"\"\"\n",
    "    CREATE TABLE IF NOT EXISTS fragnet (\n",
    "        id integer UNIQUE,\n",
    "        activityID integer UNIQUE,\n",
    "        FragnetName text,\n",
    "        FragnetStepName text,\n",
    "        FragnetIdentifier integer,\n",
    "        FragenetStepType text,\n",
    "        FragnetStepDuration integer,\n",
    "        StartDate DateTime,\n",
    "        EndDate DateTime)\"\"\"\n",
    "\n",
    "cur.execute(fragnet_sql)\n",
    "\n",
    "\n",
    "gig_sql = \"\"\"\n",
    "    CREATE TABLE IF NOT EXISTS gig (\n",
    "       ID integer UNIQUE,\n",
    "       ActivityID integer UNIQUE,\n",
    "       GIGID integer UNIQUE,\n",
    "       GigName text UNIQUE,\n",
    "       GigCompleterID text,\n",
    "       GigReviewerID text,\n",
    "       Status text,\n",
    "       AssignmentStatus text,\n",
    "       ScheduleStatus text,\n",
    "       SortOrder text,\n",
    "       GignetSortOrder text,\n",
    "       DOSActivity text,\n",
    "       GigTypeName text,\n",
    "       GigTypeIdentifier text,\n",
    "       WorkType text,\n",
    "       GigInstructions text,\n",
    "       ChargeNumber integer,\n",
    "       JobFamily text,\n",
    "       SpecificProjectRole text,\n",
    "       Assumption text,\n",
    "       Validation text,\n",
    "       GigRevision integer,\n",
    "       StartDate DateTime,\n",
    "       EndDate DateTime,\n",
    "       PlannedStart DateTime,\n",
    "       PlannedEnd DateTime,\n",
    "       DocumentLink text)\"\"\"\n",
    "\n",
    "cur.execute(gig_sql)\n",
    "\n",
    "\n",
    "DependencyMatrix_sql = \"\"\"\n",
    "    CREATE TABLE IF NOT EXISTS DependencyMatrix (\n",
    "       ID integer UNIQUE,\n",
    "       ParentID integer UNIQUE,\n",
    "       IOFieldName text,\n",
    "       Duration integer,\n",
    "       Gigtypename text,\n",
    "       GigName text,\n",
    "       One_Some_AllCWA text,\n",
    "       IsSource integer,\n",
    "       Finish_Finish integer,\n",
    "       Start_Start integer,\n",
    "       ValueType text,\n",
    "       UOMType text,\n",
    "       sourceofdata text,\n",
    "       scope text,\n",
    "       responsiblediscipline text,\n",
    "       fragnetstepidentifier text,\n",
    "       fragnetstepdeliverable text,\n",
    "       feed_y text,\n",
    "       DBPMSFile text)\"\"\"\n",
    "\n",
    "cur.execute(DependencyMatrix_sql)\n",
    "\n",
    "GigDependency_sql = \"\"\"\n",
    "    CREATE TABLE IF NOT EXISTS GigDependency (\n",
    "       ID integer UNIQUE,\n",
    "       primarygigname text,\n",
    "       secondarygigname text)\"\"\"\n",
    "\n",
    "cur.execute(GigDependency_sql) "
   ]
  },
  {
   "cell_type": "code",
   "execution_count": 2,
   "metadata": {},
   "outputs": [
    {
     "name": "stdout",
     "output_type": "stream",
     "text": [
      "[('project',), ('activity',), ('WBS_CWAMetaData',), ('fragnet',), ('gig',), ('DependencyMatrix',), ('GigDependency',)]\n"
     ]
    }
   ],
   "source": [
    "#fetch all tables that exist in the db \n",
    "cur.execute(\"SELECT name FROM sqlite_master WHERE type='table'\")\n",
    "\n",
    "print(cur.fetchall())\n",
    "# example output [('project',), ('activity',)]"
   ]
  },
  {
   "cell_type": "code",
   "execution_count": null,
   "metadata": {},
   "outputs": [],
   "source": [
    "#didn't create the master tables for now"
   ]
  },
  {
   "cell_type": "code",
   "execution_count": 27,
   "metadata": {},
   "outputs": [
    {
     "data": {
      "text/plain": [
       "<sqlite3.Cursor at 0x15f41a1fab0>"
      ]
     },
     "execution_count": 27,
     "metadata": {},
     "output_type": "execute_result"
    }
   ],
   "source": [
    "#code to drop table if need to\n",
    "con = sqlite3.connect('BV.db') # connect to the database\n",
    "cur = con.cursor() # instantiate a cursor obj\n",
    "\n",
    "dropTableStatement = \"DROP TABLE ___inserttable___\"\n",
    "\n",
    "cur.execute(dropTableStatement)\n"
   ]
  }
 ],
 "metadata": {
  "kernelspec": {
   "display_name": "Python 3",
   "language": "python",
   "name": "python3"
  },
  "language_info": {
   "codemirror_mode": {
    "name": "ipython",
    "version": 3
   },
   "file_extension": ".py",
   "mimetype": "text/x-python",
   "name": "python",
   "nbconvert_exporter": "python",
   "pygments_lexer": "ipython3",
   "version": "3.8.3"
  }
 },
 "nbformat": 4,
 "nbformat_minor": 4
}
